{
 "cells": [
  {
   "cell_type": "code",
   "execution_count": null,
   "id": "ab913131-2685-4209-adf7-7bd9d7d84d71",
   "metadata": {},
   "outputs": [],
   "source": [
    "# !pip install torch torchvision torchaudio --extra-index-url https://download.pytorch.org/whl/cu116"
   ]
  },
  {
   "cell_type": "code",
   "execution_count": null,
   "id": "11ccca8d-14de-4382-8804-7abe253bd7a9",
   "metadata": {},
   "outputs": [],
   "source": [
    "#!pip install transformers"
   ]
  },
  {
   "cell_type": "code",
   "execution_count": null,
   "id": "25f8bb65-b993-4066-b790-1361019dcd83",
   "metadata": {},
   "outputs": [],
   "source": [
    "from transformers import AutoTokenizer,AutoModelForSequenceClassification\n",
    "import torch"
   ]
  },
  {
   "cell_type": "code",
   "execution_count": null,
   "id": "83273227-17fd-4a02-80a3-11396071ffa7",
   "metadata": {},
   "outputs": [],
   "source": [
    "import requests"
   ]
  },
  {
   "cell_type": "code",
   "execution_count": null,
   "id": "fb013e2b-c472-475d-92ff-e3de606dd2ac",
   "metadata": {},
   "outputs": [],
   "source": [
    "import re"
   ]
  },
  {
   "cell_type": "code",
   "execution_count": null,
   "id": "71efdf7f-25e6-4c94-a008-84696508cacd",
   "metadata": {},
   "outputs": [],
   "source": [
    "from bs4 import BeautifulSoup"
   ]
  },
  {
   "cell_type": "code",
   "execution_count": null,
   "id": "3dd3dfa4-9dac-43b4-b04f-7da845276874",
   "metadata": {},
   "outputs": [],
   "source": [
    "tokenizer = AutoTokenizer.from_pretrained(\"nlptown/bert-base-multilingual-uncased-sentiment\")"
   ]
  },
  {
   "cell_type": "code",
   "execution_count": null,
   "id": "555b83ee-dc10-4e6e-bf96-9a31852500f9",
   "metadata": {},
   "outputs": [],
   "source": [
    "type(tokenizer)"
   ]
  },
  {
   "cell_type": "code",
   "execution_count": null,
   "id": "f777c829-682f-495b-beef-7b312062133b",
   "metadata": {},
   "outputs": [],
   "source": [
    "print(tokenizer)"
   ]
  },
  {
   "cell_type": "code",
   "execution_count": null,
   "id": "5f5fe945-bf88-461d-a893-3034c201ae9b",
   "metadata": {},
   "outputs": [],
   "source": [
    "model = AutoModelForSequenceClassification.from_pretrained(\"nlptown/bert-base-multilingual-uncased-sentiment\")"
   ]
  },
  {
   "cell_type": "code",
   "execution_count": null,
   "id": "c5f9055f-1d6a-4ae1-bac1-695f188f0b13",
   "metadata": {},
   "outputs": [],
   "source": [
    "tokens = tokenizer.encode('I do not like south indian food',return_tensors='pt')"
   ]
  },
  {
   "cell_type": "code",
   "execution_count": null,
   "id": "02544328-c453-4973-8103-4f6f5eaf2a97",
   "metadata": {},
   "outputs": [],
   "source": [
    "tokens"
   ]
  },
  {
   "cell_type": "code",
   "execution_count": null,
   "id": "1ba34bcd-a355-4db9-af14-6a099eaf298c",
   "metadata": {},
   "outputs": [],
   "source": [
    "tokenizer.decode(tokens[0])"
   ]
  },
  {
   "cell_type": "code",
   "execution_count": null,
   "id": "3d89da15-c119-4337-9880-2cdc6d9da46f",
   "metadata": {},
   "outputs": [],
   "source": [
    "result = model(tokens)"
   ]
  },
  {
   "cell_type": "code",
   "execution_count": null,
   "id": "ffab6b0f-7015-4464-b225-47698d2b3114",
   "metadata": {},
   "outputs": [],
   "source": [
    "result"
   ]
  },
  {
   "cell_type": "code",
   "execution_count": null,
   "id": "13f47a60-ff0d-476b-8e19-4d9daa8c7ede",
   "metadata": {},
   "outputs": [],
   "source": [
    "result.logits"
   ]
  },
  {
   "cell_type": "code",
   "execution_count": null,
   "id": "21a77c40-1a5e-41c0-9b16-fce0aa76213f",
   "metadata": {},
   "outputs": [],
   "source": [
    "torch.argmax(result.logits)"
   ]
  },
  {
   "cell_type": "code",
   "execution_count": null,
   "id": "2a83f5b7-a4f6-46d6-a0dd-912fa2ba01b6",
   "metadata": {},
   "outputs": [],
   "source": [
    "int(torch.argmax(result.logits))+1"
   ]
  },
  {
   "cell_type": "code",
   "execution_count": null,
   "id": "1ba64820-1ab2-4f18-8897-c71c24604826",
   "metadata": {},
   "outputs": [],
   "source": [
    "r = requests.get('https://www.yelp.com/biz/burger-and-lobster-flatiron-nyc-new-york?osq=Burgers')"
   ]
  },
  {
   "cell_type": "code",
   "execution_count": null,
   "id": "913670e0-b111-4865-b103-3015e8e02d65",
   "metadata": {
    "scrolled": true,
    "tags": []
   },
   "outputs": [],
   "source": [
    "r.text"
   ]
  },
  {
   "cell_type": "code",
   "execution_count": null,
   "id": "475d27b9-3abf-4b3f-aa49-6d1634e88811",
   "metadata": {},
   "outputs": [],
   "source": [
    "soup = BeautifulSoup(r.text, 'html.parser')"
   ]
  },
  {
   "cell_type": "code",
   "execution_count": null,
   "id": "f0a5d44a-4433-4666-bba9-05be9d2a8086",
   "metadata": {
    "scrolled": true,
    "tags": []
   },
   "outputs": [],
   "source": [
    "soup"
   ]
  },
  {
   "cell_type": "code",
   "execution_count": null,
   "id": "db756f46-02db-4ef5-ad20-e816e14d758a",
   "metadata": {
    "tags": []
   },
   "outputs": [],
   "source": [
    "regex = re.compile('.*comment.*')"
   ]
  },
  {
   "cell_type": "code",
   "execution_count": null,
   "id": "be81785a-08a8-4e6a-849c-36a93ff6dad9",
   "metadata": {
    "tags": []
   },
   "outputs": [],
   "source": [
    "results = soup.find_all('p',{'class':regex})"
   ]
  },
  {
   "cell_type": "code",
   "execution_count": null,
   "id": "8210c59d-8d31-4f1e-b32c-430e8d3ed0a9",
   "metadata": {},
   "outputs": [],
   "source": [
    "reviews = [result.text for result in results]"
   ]
  },
  {
   "cell_type": "code",
   "execution_count": null,
   "id": "45892d2b-90f5-4d5c-b2fe-73a0faee03d6",
   "metadata": {
    "scrolled": true,
    "tags": []
   },
   "outputs": [],
   "source": [
    "reviews"
   ]
  },
  {
   "cell_type": "code",
   "execution_count": null,
   "id": "f302da7e-37e6-493b-bd63-daa31e385d26",
   "metadata": {},
   "outputs": [],
   "source": [
    "import numpy as np\n",
    "import pandas as pd"
   ]
  },
  {
   "cell_type": "code",
   "execution_count": null,
   "id": "3946646b-2f25-4298-95cb-964ae7ae79c2",
   "metadata": {},
   "outputs": [],
   "source": [
    "df = pd.DataFrame(np.array(reviews),columns=['review'])"
   ]
  },
  {
   "cell_type": "code",
   "execution_count": null,
   "id": "9c424ece-3a47-46c1-8471-3d6b8724dffa",
   "metadata": {},
   "outputs": [],
   "source": [
    "df['review'].iloc[5]"
   ]
  },
  {
   "cell_type": "code",
   "execution_count": null,
   "id": "17e86dac-73ba-4db4-ab2d-eca3738ec288",
   "metadata": {},
   "outputs": [],
   "source": [
    "def sentiment_score(review):\n",
    "    tokens = tokenizer.encode(review, return_tensors='pt')\n",
    "    result = model(tokens)\n",
    "    return int(torch.argmax(result.logits))+1"
   ]
  },
  {
   "cell_type": "code",
   "execution_count": null,
   "id": "40b7493f-6689-4036-af15-5c31c5d0e266",
   "metadata": {},
   "outputs": [],
   "source": [
    "sentiment_score(df['review'].iloc[5])"
   ]
  },
  {
   "cell_type": "code",
   "execution_count": null,
   "id": "250ef1e9-89f5-404f-9f83-036a9cf31767",
   "metadata": {},
   "outputs": [],
   "source": [
    "df['sentiment'] = df['review'].apply(lambda x: sentiment_score(x[:512]))"
   ]
  },
  {
   "cell_type": "code",
   "execution_count": null,
   "id": "6542d3a5-3a5f-4d13-8d14-02585b3814d6",
   "metadata": {},
   "outputs": [],
   "source": [
    "df"
   ]
  },
  {
   "cell_type": "code",
   "execution_count": null,
   "id": "64f56a64-4f90-47de-9412-3e5b314e9ac0",
   "metadata": {},
   "outputs": [],
   "source": []
  }
 ],
 "metadata": {
  "kernelspec": {
   "display_name": "Python 3 (ipykernel)",
   "language": "python",
   "name": "python3"
  },
  "language_info": {
   "codemirror_mode": {
    "name": "ipython",
    "version": 3
   },
   "file_extension": ".py",
   "mimetype": "text/x-python",
   "name": "python",
   "nbconvert_exporter": "python",
   "pygments_lexer": "ipython3",
   "version": "3.9.7"
  }
 },
 "nbformat": 4,
 "nbformat_minor": 5
}
